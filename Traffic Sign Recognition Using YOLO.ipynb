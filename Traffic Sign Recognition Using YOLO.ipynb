{
  "nbformat": 4,
  "nbformat_minor": 0,
  "metadata": {
    "colab": {
      "name": "YOLO traffic.ipynb",
      "provenance": [],
      "collapsed_sections": []
    },
    "kernelspec": {
      "display_name": "Python 3",
      "name": "python3"
    },
    "language_info": {
      "name": "python"
    },
    "accelerator": "GPU"
  },
  "cells": [
    {
      "cell_type": "markdown",
      "metadata": {
        "id": "wBjByddWmzte"
      },
      "source": [
        "# 🚦 Traffic Sign Recognition using YOLO 🚦"
      ]
    },
    {
      "cell_type": "markdown",
      "metadata": {
        "id": "DLksZXJ_m6SO"
      },
      "source": [
        "## 💽 For the data German Traffic Sign Recognition Benchmark(GTSRB) Dataset is used which consists 43 classes and about 50k images 💽 "
      ]
    },
    {
      "cell_type": "code",
      "metadata": {
        "id": "5OKhWJEcwoZl"
      },
      "source": [
        "import os\n",
        "import pandas as pd\n",
        "import shutil\n",
        "from google.colab import drive"
      ],
      "execution_count": null,
      "outputs": []
    },
    {
      "cell_type": "code",
      "metadata": {
        "colab": {
          "base_uri": "https://localhost:8080/",
          "height": 0
        },
        "id": "B3u7pgmZzdFK",
        "outputId": "72c0dc51-ffa6-4b55-b2a0-975c95f449f6"
      },
      "source": [
        "drive.mount('/content/gdrive')"
      ],
      "execution_count": null,
      "outputs": []
    },
    {
      "cell_type": "code",
      "metadata": {
        "colab": {
          "base_uri": "https://localhost:8080/",
          "height": 0
        },
        "id": "w77-5-tH99M3",
        "outputId": "7d98a846-7fac-4a9a-f1ec-f77057143f08"
      },
      "source": [
        "%cd gdrive/My Drive/Colab Notebooks/traffic"
      ],
      "execution_count": null,
      "outputs": []
    },
    {
      "cell_type": "markdown",
      "metadata": {
        "id": "O0eMNZeuIJH5"
      },
      "source": [
        "## Cloning Darknet 💾"
      ]
    },
    {
      "cell_type": "code",
      "metadata": {
        "colab": {
          "base_uri": "https://localhost:8080/",
          "height": 0
        },
        "id": "6vHUakyH4PaP",
        "outputId": "c8bb1ee0-7244-4336-c47c-13f9df0727c2"
      },
      "source": [
        "!git clone 'https://github.com/AlexeyAB/darknet.git'"
      ],
      "execution_count": null,
      "outputs": []
    },
    {
      "cell_type": "markdown",
      "metadata": {
        "id": "E56Une0XIW26"
      },
      "source": [
        "## Making some changes to Makefile to use GPU"
      ]
    },
    {
      "cell_type": "code",
      "metadata": {
        "colab": {
          "base_uri": "https://localhost:8080/",
          "height": 0
        },
        "id": "ozHhDMMWWw2q",
        "outputId": "f76b6322-415f-486f-e8c8-2a5786ed0514"
      },
      "source": [
        "%cd darknet\n",
        "!sed -i 's/OPENCV=0/OPENCV=1/' Makefile\n",
        "!sed -i 's/GPU=0/GPU=1/' Makefile\n",
        "!sed -i 's/CUDNN=0/CUDNN=1/' Makefile\n",
        "!sed -i 's/CUDNN_HALF=0/CUDNN_HALF=1/' Makefile"
      ],
      "execution_count": null,
      "outputs": []
    },
    {
      "cell_type": "code",
      "metadata": {
        "colab": {
          "base_uri": "https://localhost:8080/",
          "height": 0
        },
        "id": "BM-B03OfW5-0",
        "outputId": "9d0d52a1-b551-47fe-ac5a-81aece6aacce"
      },
      "source": [
        "!/usr/local/cuda/bin/nvcc --version"
      ],
      "execution_count": null,
      "outputs": []
    },
    {
      "cell_type": "markdown",
      "metadata": {
        "id": "N17cUHP2Im-j"
      },
      "source": [
        "## Using make to build executable programs and libraries from source code."
      ]
    },
    {
      "cell_type": "code",
      "metadata": {
        "colab": {
          "base_uri": "https://localhost:8080/",
          "height": 0
        },
        "id": "ryrfUWXKW8-u",
        "outputId": "99fcfe4e-4155-49a4-9642-3861a1661390"
      },
      "source": [
        "!make"
      ],
      "execution_count": null,
      "outputs": []
    },
    {
      "cell_type": "code",
      "metadata": {
        "colab": {
          "base_uri": "https://localhost:8080/",
          "height": 0
        },
        "id": "XF_LQw6hUGXa",
        "outputId": "e7e46ef3-4333-4137-ec48-6bcd25b53de4"
      },
      "source": [
        "!./darknet"
      ],
      "execution_count": null,
      "outputs": []
    },
    {
      "cell_type": "code",
      "metadata": {
        "colab": {
          "base_uri": "https://localhost:8080/",
          "height": 0
        },
        "id": "Td8utnXql4w3",
        "outputId": "12f0cec2-7a30-44e0-bb16-38ec646fc81a"
      },
      "source": [
        "%cd ../../../.."
      ],
      "execution_count": null,
      "outputs": []
    },
    {
      "cell_type": "code",
      "metadata": {
        "id": "lA-OZveC0olL"
      },
      "source": [
        "os_dir ='gdrive/My Drive/Colab Notebooks/traffic/GTSRB/Final_Training/Images/'"
      ],
      "execution_count": null,
      "outputs": []
    },
    {
      "cell_type": "markdown",
      "metadata": {
        "id": "TIuTugRT7H4f"
      },
      "source": [
        "### 🗄️ Renaming image files and their corresponding values in the csv file..(this is to put every image in the same folder for further processing and to prevent any naming conflicts) 🗄️"
      ]
    },
    {
      "cell_type": "code",
      "metadata": {
        "id": "Dljm_x_wJMSp"
      },
      "source": [
        "## DANGEROUS CODE --- BEWARE ###\n",
        "for dir in os.listdir(os_dir):\n",
        "    if dir == '.DS_Store' :\n",
        "        continue\n",
        "    inner_dir = os.path.join(os_dir, dir)\n",
        "    print(inner_dir[-5:])\n",
        "    for img in os.listdir(inner_dir):\n",
        "        if img == \"GT-\" + dir + '.csv':\n",
        "            csv_file = pd.read_csv(os.path.join(inner_dir,\"GT-\" + dir + '.csv'), sep=';')\n",
        "            csv_file['Filename'] = csv_file['Filename'].apply(lambda x: f'{inner_dir[-5:]}_{x}')\n",
        "            csv_file.to_csv(f'{inner_dir}/GGT-{dir}.csv', sep=';',index = False)\n",
        "        else:\n",
        "            continue\n",
        "            os.rename(inner_dir + '/' + img, inner_dir + '/' + f'{inner_dir[-5:]}_{img}')"
      ],
      "execution_count": null,
      "outputs": []
    },
    {
      "cell_type": "markdown",
      "metadata": {
        "id": "7DaVZits8JFK"
      },
      "source": [
        "### 🎞️ Copying all images to an auxiliary folder 🎞️"
      ]
    },
    {
      "cell_type": "code",
      "metadata": {
        "id": "0qorRelbdiaa"
      },
      "source": [
        "for dir in os.listdir(os_dir):\n",
        "    if dir == '.DS_Store':\n",
        "        continue\n",
        "    inner_dir = os.path.join(os_dir, dir)\n",
        "    print(inner_dir[-5:])\n",
        "    for img in os.listdir(inner_dir):\n",
        "        if img == \"GT-\" + dir + '.csv' or img == \"GGT-\" + dir + '.csv' or img == '00000_GT-00000.gsheet': # omit all files except the images\n",
        "            continue\n",
        "        else:\n",
        "            shutil.copy(f'{inner_dir}/{img}','gdrive/My Drive/Colab Notebooks/traffic/TFinal')"
      ],
      "execution_count": null,
      "outputs": []
    },
    {
      "cell_type": "markdown",
      "metadata": {
        "id": "4bhZUEEj9EA7"
      },
      "source": [
        "## ⚙️ Appending all the csv files into one ⚙️"
      ]
    },
    {
      "cell_type": "code",
      "metadata": {
        "colab": {
          "base_uri": "https://localhost:8080/",
          "height": 231
        },
        "id": "OyIMJ3gmZO2k",
        "outputId": "4fceb968-dca4-4cc4-f972-d93c61c6ceca"
      },
      "source": [
        "train_csv = pd.DataFrame()\n",
        "for dir in os.listdir(os_dir):\n",
        "    if dir == '.DS_Store' :\n",
        "        continue\n",
        "    inner_dir = os.path.join(os_dir, dir)\n",
        "    csv_file = pd.read_csv(os.path.join(inner_dir,\"GGT-\" + dir + '.csv'), sep=';')\n",
        "\n",
        "    train_csv = train_csv.append(csv_file)\n",
        "print(train_csv.shape)"
      ],
      "execution_count": null,
      "outputs": []
    },
    {
      "cell_type": "markdown",
      "metadata": {
        "id": "yLVQg-FT5D2E"
      },
      "source": [
        "## ✨ Creating Annotation file for each image ✨\n",
        "\n",
        "### YOLO Format :- [object-class] [x]/[image_width] [y]/[image_height] [width]/[image_width] [height]/[image_height]"
      ]
    },
    {
      "cell_type": "code",
      "metadata": {
        "id": "gguebjqy5ggy"
      },
      "source": [
        "train_csv.head()"
      ],
      "execution_count": null,
      "outputs": []
    },
    {
      "cell_type": "code",
      "metadata": {
        "id": "OpPENVOIIFyP"
      },
      "source": [
        "IMG_PATH = 'gdrive/My Drive/Colab Notebooks/traffic/TFinal'"
      ],
      "execution_count": null,
      "outputs": []
    },
    {
      "cell_type": "code",
      "metadata": {
        "id": "537Rbqq5G80a"
      },
      "source": [
        "%cd gdrive/My Drive/Colab Notebooks/traffic/TFinal"
      ],
      "execution_count": null,
      "outputs": []
    },
    {
      "cell_type": "code",
      "metadata": {
        "id": "OWVmLeju_JzR"
      },
      "source": [
        "def compare(v1, v2):\n",
        "    if v1 > v2:\n",
        "        vmax, vmin = v1, v2\n",
        "        return vmax, vmin\n",
        "    else:\n",
        "        vmax, vmin = v2, v1\n",
        "        return vmax, vmin\n",
        "def convert_labels(z):\n",
        "    x1 = z['Roi.X1']\n",
        "    y1 = z['Roi.Y1']\n",
        "    x2 = z['Roi.X2']\n",
        "    y2 = z['Roi.Y2']\n",
        "    size = [z['Height'],z['Width']]\n",
        "    xmax, xmin = compare(x1, x2)\n",
        "    ymax, ymin = compare(y1, y2)\n",
        "    dw = 1./size[1]\n",
        "    dh = 1./size[0]\n",
        "    x = (xmin + xmax)/2.0\n",
        "    y = (ymin + ymax)/2.0\n",
        "    w = xmax - xmin\n",
        "    h = ymax - ymin\n",
        "    x = x*dw\n",
        "    w = w*dw\n",
        "    y = y*dh\n",
        "    h = h*dh\n",
        "    return x,y,w,h"
      ],
      "execution_count": null,
      "outputs": []
    },
    {
      "cell_type": "code",
      "metadata": {
        "id": "XMCG_6JIGM_U"
      },
      "source": [
        "for index, x in train_csv.iterrows():\n",
        "    name = x['Filename'].replace('.ppm','.txt')\n",
        "    labels = convert_labels(x)\n",
        "    cls = x['ClassId']\n",
        "    f = open(f'{name}','w+')\n",
        "    f.write(f'{cls} {labels[0]} {labels[1]} {labels[2]} {labels[3]}')\n",
        "    f.close()"
      ],
      "execution_count": null,
      "outputs": []
    },
    {
      "cell_type": "code",
      "metadata": {
        "id": "hqpyEwaxI7ZA"
      },
      "source": [
        "!pwd"
      ],
      "execution_count": null,
      "outputs": []
    },
    {
      "cell_type": "markdown",
      "metadata": {
        "id": "3G2Jz9-2zYkM"
      },
      "source": [
        "# 🪓Spliting into Training and Testing set ⛏️"
      ]
    },
    {
      "cell_type": "code",
      "metadata": {
        "id": "R1oTHo0F1zzm"
      },
      "source": [
        "y = train_csv['ClassId'] ## For stratification"
      ],
      "execution_count": null,
      "outputs": []
    },
    {
      "cell_type": "code",
      "metadata": {
        "id": "OaJrKXYr0uJS"
      },
      "source": [
        "from sklearn.model_selection import train_test_split\n",
        "train_ds, valid_ds = train_test_split(\n",
        "    train_csv,\n",
        "    test_size = 0.3,\n",
        "    random_state = 43,\n",
        "    shuffle = True,\n",
        "    stratify = y\n",
        ")"
      ],
      "execution_count": null,
      "outputs": []
    },
    {
      "cell_type": "code",
      "metadata": {
        "id": "XHafM7Jo19cb"
      },
      "source": [
        "train_ds.reset_index()\n",
        "valid_ds.reset_index()"
      ],
      "execution_count": null,
      "outputs": []
    },
    {
      "cell_type": "markdown",
      "metadata": {
        "id": "M8tMNRZ85rwQ"
      },
      "source": [
        "## 🔗 Creating txt files with path to Training and Testing images 🔗"
      ]
    },
    {
      "cell_type": "code",
      "metadata": {
        "id": "f6hgw4ZTjPCp"
      },
      "source": [
        "f = open(f'train.txt','w+')\n",
        "for index, x in train_ds.iterrows():\n",
        "    name = x['Filename']\n",
        "    f.write(f'TFinal/{name}\\n')\n",
        "f.close()"
      ],
      "execution_count": null,
      "outputs": []
    },
    {
      "cell_type": "code",
      "metadata": {
        "id": "eLJEKb57zlnD"
      },
      "source": [
        "f = open(f'test.txt','w+')\n",
        "for index, x in valid_ds.iterrows():\n",
        "    name = x['Filename']\n",
        "    f.write(f'TFinal/{name}\\n')\n",
        "f.close()"
      ],
      "execution_count": null,
      "outputs": []
    },
    {
      "cell_type": "code",
      "metadata": {
        "id": "orn1f0O32l34"
      },
      "source": [
        "!pwd"
      ],
      "execution_count": null,
      "outputs": []
    },
    {
      "cell_type": "code",
      "metadata": {
        "id": "-4iG_cks9pZH"
      },
      "source": [
        "%cd .."
      ],
      "execution_count": null,
      "outputs": []
    },
    {
      "cell_type": "markdown",
      "metadata": {
        "id": "NAMuy8kP_EVL"
      },
      "source": [
        "## 🔗 Creating classes.names and labelled_data.data 🔗"
      ]
    },
    {
      "cell_type": "code",
      "metadata": {
        "id": "8Bsh1bQP_QXy"
      },
      "source": [
        "## classes.names ##\n",
        "\n",
        "classes = [\n",
        "    'Speed limit (20km/h)',\n",
        "    'Speed limit (30km/h)',\n",
        "    'Speed limit (50km/h)',\n",
        "    'Speed limit (60km/h)',\n",
        "    'Speed limit (70km/h)',\n",
        "    'Speed limit (80km/h)',\n",
        "    'Speed limit (100km/h)',\n",
        "    'Speed limit (120km/h)',\n",
        "    'No passing',\n",
        "    'No passing for vechiles over 3.5 metric tons',\n",
        "    'No vehicles',\n",
        "    'Vechiles over 3.5 metric tons prohibited',\n",
        "    'Right-of-way at the next intersection',\n",
        "    'General caution',\n",
        "    'Dangerous curve to the left',\n",
        "    'Dangerous curve to the right',\n",
        "    'Double curve',\n",
        "    'Bumpy road',\n",
        "    'Slippery road',\n",
        "    'Road narrows on the right',\n",
        "    'Road work',\n",
        "    'Traffic signals',\n",
        "    'Pedestrians',\n",
        "    'Children crossing',\n",
        "    'Bicycles crossing',\n",
        "    'Beware of ice/snow',\n",
        "    'Wild animals crossing',\n",
        "    'Turn right ahead',\n",
        "    'Turn left ahead',\n",
        "    'Ahead only',\n",
        "    'Go straight or right',\n",
        "    'Go straight or left',\n",
        "    'Keep right',\n",
        "    'Keep left',\n",
        "    'Roundabout mandatory',\n",
        "    'Priority road',\n",
        "    'Yield',\n",
        "    'Stop',\n",
        "    'No entry',\n",
        "    'End of speed limit (80km/h)',\n",
        "    'End of all speed and passing limits',\n",
        "    'End of no passing',\n",
        "    'End of no passing by vechiles over 3.5 metric tons'\n",
        "]\n",
        "\n",
        "f = open(f'classes.names','w+')\n",
        "for c in classes:\n",
        "    f.write(f'{c}\\n')\n",
        "f.close()\n",
        "\n",
        "## labelled_data.data ##\n",
        "\n",
        "config = {\n",
        "    'classes': 43,\n",
        "    'train': 'TFinal/train.text',\n",
        "    'valid': 'TFinal/valid.text',\n",
        "    'names': 'classes.names',\n",
        "    'backup': 'backup'\n",
        "}\n",
        "f = open(f'labelled_data.data', 'w+')\n",
        "for key in config:\n",
        "    f.write(f'{key} = {config[key]}\\n')\n",
        "f.close()\n"
      ],
      "execution_count": null,
      "outputs": []
    },
    {
      "cell_type": "markdown",
      "metadata": {
        "id": "tgNSPrU4-oc9"
      },
      "source": [
        "# ❤️‍🔥 Training the Model ❤️‍🔥"
      ]
    },
    {
      "cell_type": "code",
      "metadata": {
        "id": "DXMyrPhD60yR"
      },
      "source": [
        "# !wget https://pjreddie.com/media/files/darknet53.conv.74"
      ],
      "execution_count": null,
      "outputs": []
    },
    {
      "cell_type": "code",
      "metadata": {
        "id": "qxD7IlD3wCw4"
      },
      "source": [
        "!wget https://pjreddie.com/media/files/yolov3-tiny.weights ## tinyYOLO for RaspberryPi"
      ],
      "execution_count": null,
      "outputs": []
    },
    {
      "cell_type": "code",
      "metadata": {
        "colab": {
          "base_uri": "https://localhost:8080/",
          "height": 0
        },
        "id": "fudYxsff7hwq",
        "outputId": "67b982e2-7584-4f2f-92e3-6e1a69aa124a"
      },
      "source": [
        "!./darknet/darknet detector train labelled_data.data yolov3-tiny_custom.cfg backup/yolov3-tiny_custom_best.weights -dont_show -map"
      ],
      "execution_count": null,
      "outputs": []
    },
    {
      "cell_type": "code",
      "metadata": {
        "id": "eVNlWjzz09ID"
      },
      "source": [],
      "execution_count": null,
      "outputs": []
    }
  ]
}
